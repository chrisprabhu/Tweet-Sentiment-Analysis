{
 "cells": [
  {
   "cell_type": "code",
   "execution_count": 1,
   "metadata": {
    "collapsed": true
   },
   "outputs": [],
   "source": [
    "# Three Observable Trends\n",
    "# The aggregate of each news organization's tweets were consitently close to neutral but always negative sentiment.\n",
    "# The BBC had tweets with the most negative overall sentiment and the NYT had tweets closest to neutral. \n",
    "# All news organizations had a wide spread of tweet sentiments reaching high and low on the scale. "
   ]
  },
  {
   "cell_type": "code",
   "execution_count": 2,
   "metadata": {
    "collapsed": true
   },
   "outputs": [],
   "source": [
    "import tweepy\n",
    "import json\n",
    "from config4 import access_token, access_token_secret, consumer_key, consumer_secret\n",
    "from pprint import pprint\n",
    "from vaderSentiment.vaderSentiment import SentimentIntensityAnalyzer\n",
    "import matplotlib.pyplot as plt\n",
    "import numpy as np\n",
    "import pandas as pd\n",
    "analyzer = SentimentIntensityAnalyzer()"
   ]
  },
  {
   "cell_type": "code",
   "execution_count": 3,
   "metadata": {
    "collapsed": true
   },
   "outputs": [],
   "source": [
    "auth = tweepy.OAuthHandler(consumer_key, consumer_secret)\n",
    "auth.set_access_token(access_token, access_token_secret)\n",
    "api = tweepy.API(auth, parser=tweepy.parsers.JSONParser())"
   ]
  },
  {
   "cell_type": "code",
   "execution_count": 4,
   "metadata": {
    "collapsed": true
   },
   "outputs": [],
   "source": [
    "# Define which Twitter accounts to pull from: \n",
    "news_organizations = ['BBCWorld', 'CBSNews', 'CNN', 'FoxNews', 'NYTIMES']"
   ]
  },
  {
   "cell_type": "code",
   "execution_count": 5,
   "metadata": {
    "collapsed": true
   },
   "outputs": [],
   "source": [
    "# Grab the Vader Analysis scores for the most recent 100 tweets for each account:\n",
    "source = []\n",
    "tweet_times = []\n",
    "tweet_text = []\n",
    "\n",
    "comp_scores = []\n",
    "pos_scores = []\n",
    "neu_scores = []\n",
    "neg_scores = []\n",
    "\n",
    "for account in news_organizations: \n",
    "    public_tweets = api.user_timeline(account, count=100)\n",
    "    for tweet in public_tweets:\n",
    "        \n",
    "        source.append(account)\n",
    "        tweet_times.append(tweet['created_at'])\n",
    "        tweet_text.append(tweet['text'])\n",
    "        \n",
    "        #Analyzed Data\n",
    "        analyzed = analyzer.polarity_scores(tweet['text'])\n",
    "        comp_scores.append(analyzed['compound'])\n",
    "        pos_scores.append(analyzed['pos'])\n",
    "        neu_scores.append(analyzed['neu'])\n",
    "        neg_scores.append(analyzed['neg'])"
   ]
  },
  {
   "cell_type": "code",
   "execution_count": 6,
   "metadata": {},
   "outputs": [
    {
     "data": {
      "text/html": [
       "<div>\n",
       "<style scoped>\n",
       "    .dataframe tbody tr th:only-of-type {\n",
       "        vertical-align: middle;\n",
       "    }\n",
       "\n",
       "    .dataframe tbody tr th {\n",
       "        vertical-align: top;\n",
       "    }\n",
       "\n",
       "    .dataframe thead th {\n",
       "        text-align: right;\n",
       "    }\n",
       "</style>\n",
       "<table border=\"1\" class=\"dataframe\">\n",
       "  <thead>\n",
       "    <tr style=\"text-align: right;\">\n",
       "      <th></th>\n",
       "      <th>Source</th>\n",
       "      <th>Time Stamp</th>\n",
       "      <th>Tweet Text</th>\n",
       "      <th>Compound Score</th>\n",
       "      <th>Positive Score</th>\n",
       "      <th>Neutral Score</th>\n",
       "      <th>Negative Score</th>\n",
       "    </tr>\n",
       "  </thead>\n",
       "  <tbody>\n",
       "    <tr>\n",
       "      <th>0</th>\n",
       "      <td>BBCWorld</td>\n",
       "      <td>Fri Mar 09 16:15:15 +0000 2018</td>\n",
       "      <td>Mauritius President Gurib-Fakim to resign over...</td>\n",
       "      <td>-0.6486</td>\n",
       "      <td>0.0</td>\n",
       "      <td>0.569</td>\n",
       "      <td>0.431</td>\n",
       "    </tr>\n",
       "    <tr>\n",
       "      <th>1</th>\n",
       "      <td>BBCWorld</td>\n",
       "      <td>Fri Mar 09 16:09:23 +0000 2018</td>\n",
       "      <td>Catalonia Spain: Judge refuses to release Jord...</td>\n",
       "      <td>0.0000</td>\n",
       "      <td>0.0</td>\n",
       "      <td>1.000</td>\n",
       "      <td>0.000</td>\n",
       "    </tr>\n",
       "    <tr>\n",
       "      <th>2</th>\n",
       "      <td>BBCWorld</td>\n",
       "      <td>Fri Mar 09 15:54:43 +0000 2018</td>\n",
       "      <td>Big cat gets CAT scan https://t.co/tl0hN1flxT</td>\n",
       "      <td>0.0000</td>\n",
       "      <td>0.0</td>\n",
       "      <td>1.000</td>\n",
       "      <td>0.000</td>\n",
       "    </tr>\n",
       "    <tr>\n",
       "      <th>3</th>\n",
       "      <td>BBCWorld</td>\n",
       "      <td>Fri Mar 09 15:43:09 +0000 2018</td>\n",
       "      <td>@jvn \"Yaass Queen!\" 🙌</td>\n",
       "      <td>0.0000</td>\n",
       "      <td>0.0</td>\n",
       "      <td>1.000</td>\n",
       "      <td>0.000</td>\n",
       "    </tr>\n",
       "    <tr>\n",
       "      <th>4</th>\n",
       "      <td>BBCWorld</td>\n",
       "      <td>Fri Mar 09 14:49:43 +0000 2018</td>\n",
       "      <td>RT @BBC_HaveYourSay: “Orange is the new Barack...</td>\n",
       "      <td>0.0000</td>\n",
       "      <td>0.0</td>\n",
       "      <td>1.000</td>\n",
       "      <td>0.000</td>\n",
       "    </tr>\n",
       "  </tbody>\n",
       "</table>\n",
       "</div>"
      ],
      "text/plain": [
       "     Source                      Time Stamp  \\\n",
       "0  BBCWorld  Fri Mar 09 16:15:15 +0000 2018   \n",
       "1  BBCWorld  Fri Mar 09 16:09:23 +0000 2018   \n",
       "2  BBCWorld  Fri Mar 09 15:54:43 +0000 2018   \n",
       "3  BBCWorld  Fri Mar 09 15:43:09 +0000 2018   \n",
       "4  BBCWorld  Fri Mar 09 14:49:43 +0000 2018   \n",
       "\n",
       "                                          Tweet Text  Compound Score  \\\n",
       "0  Mauritius President Gurib-Fakim to resign over...         -0.6486   \n",
       "1  Catalonia Spain: Judge refuses to release Jord...          0.0000   \n",
       "2      Big cat gets CAT scan https://t.co/tl0hN1flxT          0.0000   \n",
       "3                              @jvn \"Yaass Queen!\" 🙌          0.0000   \n",
       "4  RT @BBC_HaveYourSay: “Orange is the new Barack...          0.0000   \n",
       "\n",
       "   Positive Score  Neutral Score  Negative Score  \n",
       "0             0.0          0.569           0.431  \n",
       "1             0.0          1.000           0.000  \n",
       "2             0.0          1.000           0.000  \n",
       "3             0.0          1.000           0.000  \n",
       "4             0.0          1.000           0.000  "
      ]
     },
     "execution_count": 6,
     "metadata": {},
     "output_type": "execute_result"
    }
   ],
   "source": [
    "# Add all of the data into a dataframe. \n",
    "\n",
    "analysis_df = pd.DataFrame(data= source, columns=[\"Source\"])\n",
    "analysis_df['Time Stamp'] = tweet_times\n",
    "analysis_df['Tweet Text'] = tweet_text\n",
    "analysis_df['Compound Score'] = comp_scores\n",
    "analysis_df['Positive Score'] = pos_scores\n",
    "analysis_df['Neutral Score'] = neu_scores\n",
    "analysis_df['Negative Score'] = neg_scores\n",
    "analysis_df.to_csv(\"tweet_sentiment_analysis.csv\")\n",
    "analysis_df.head()"
   ]
  },
  {
   "cell_type": "code",
   "execution_count": 7,
   "metadata": {
    "collapsed": true
   },
   "outputs": [],
   "source": [
    "# Separate the scores into individual lists by organization: \n",
    "\n",
    "bbc_tweet_scores = comp_scores[0:100]\n",
    "cbs_tweet_scores = comp_scores[100:200]\n",
    "cnn_tweet_scores = comp_scores[200:300]\n",
    "fox_tweet_scores = comp_scores[300:400]\n",
    "nytimes_tweet_scores = comp_scores[400:500]"
   ]
  },
  {
   "cell_type": "code",
   "execution_count": 8,
   "metadata": {},
   "outputs": [
    {
     "data": {
      "image/png": "[encoded data removed]",
      "text/plain": [
       "<matplotlib.figure.Figure at 0x113f8b908>"
      ]
     },
     "metadata": {},
     "output_type": "display_data"
    }
   ],
   "source": [
    "# Graph the Compound Sentiment Scores in a Scatter Plot\n",
    "\n",
    "x_values = np.arange(0,len(bbc_tweet_scores), 1)\n",
    "plt.scatter(x_values, bbc_tweet_scores, label = \"BBC\")\n",
    "plt.scatter(x_values, cbs_tweet_scores, label = \"CBS\")\n",
    "plt.scatter(x_values, cnn_tweet_scores, label = \"CNN\")\n",
    "plt.scatter(x_values, fox_tweet_scores, label = \"FOX\")\n",
    "plt.scatter(x_values, nytimes_tweet_scores, label = \"New York Times\")\n",
    "\n",
    "\n",
    "plt.legend()\n",
    "plt.title(\"Sentiment Analysis of Media Tweets Today\")\n",
    "plt.xlabel(\"Tweets Ago\")\n",
    "plt.ylabel(\"Tweet Polarity\")\n",
    "plt.xlim(100, 0)\n",
    "plt.ylim(-1,1)\n",
    "plt.show()\n",
    "plt.savefig(\"sentiment_analysis_over_time.png\")\n"
   ]
  },
  {
   "cell_type": "code",
   "execution_count": 10,
   "metadata": {},
   "outputs": [
    {
     "data": {
      "image/png": "[encoded data removed]",
      "text/plain": [
       "<matplotlib.figure.Figure at 0x1141e2780>"
      ]
     },
     "metadata": {},
     "output_type": "display_data"
    }
   ],
   "source": [
    "# Graph Average of Compound Sentiment Scores in a Bar Chart\n",
    "\n",
    "names = [\"BBC\", \"CBS\", \"CNN\", \"FOX\", \"New York Times\"]\n",
    "x_pos = np.arange(len(names))\n",
    "plt.bar(0, np.mean(bbc_tweet_scores))\n",
    "plt.bar(1, np.mean(cbs_tweet_scores))\n",
    "plt.bar(2, np.mean(cnn_tweet_scores))\n",
    "plt.bar(3, np.mean(fox_tweet_scores))\n",
    "plt.bar(4, np.mean(nytimes_tweet_scores))\n",
    "plt.xticks(x_pos, names)\n",
    "plt.ylabel(\"Average Tweet Polarity\")\n",
    "plt.ylim(-.1, .1)\n",
    "plt.show()\n",
    "plt.savefig(\"tweet_polarity_by_organization\")"
   ]
  },
  {
   "cell_type": "code",
   "execution_count": null,
   "metadata": {
    "collapsed": true
   },
   "outputs": [],
   "source": []
  }
 ],
 "metadata": {
  "kernelspec": {
   "display_name": "Python [conda env:PythonData]",
   "language": "python",
   "name": "conda-env-PythonData-py"
  },
  "language_info": {
   "codemirror_mode": {
    "name": "ipython",
    "version": 3
   },
   "file_extension": ".py",
   "mimetype": "text/x-python",
   "name": "python",
   "nbconvert_exporter": "python",
   "pygments_lexer": "ipython3",
   "version": "3.6.3"
  }
 },
 "nbformat": 4,
 "nbformat_minor": 2
}
